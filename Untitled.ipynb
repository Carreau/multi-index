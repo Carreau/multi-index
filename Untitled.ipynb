{
 "cells": [
  {
   "cell_type": "code",
   "execution_count": 26,
   "id": "0f46d228-3508-4e6c-89cc-62ea682b165a",
   "metadata": {},
   "outputs": [],
   "source": [
    "#--index-url https://pypi.anaconda.org/scientific-python-nightly-wheels/simple \\\n",
    "#  --extra-index-url https://pypi.org/simple"
   ]
  },
  {
   "cell_type": "code",
   "execution_count": null,
   "id": "c3a705a0-55c9-472b-ac8d-94792f2ecfcc",
   "metadata": {},
   "outputs": [],
   "source": [
    "PACKAGE = 'scipy'\n",
    "import requests\n",
    "from copy import copy\n",
    "import bs4\n",
    "\n",
    "\n",
    "def simple(package):\n",
    "\n",
    "    resp = requests.get('https://pypi.anaconda.org/scientific-python-nightly-wheels/simple/'+package)\n",
    "    page = bs4.BeautifulSoup(resp.text)\n",
    "\n",
    "    nightly = page.html.body.find_all('a')\n",
    "    nightly\n",
    "    fixed_nightly = []\n",
    "    \n",
    "    for old_a  in nightly:\n",
    "        a = copy(old_a)\n",
    "        if a.attrs['href'].startswith('/'):\n",
    "            a.attrs['href'] = 'https://pypi.anaconda.org'+ a.attrs['href'] \n",
    "            fixed_nightly.append(a)\n",
    "    fixed_nightly\n",
    "    \n",
    "    resp = requests.get('https://pypi.org/simple/'+package)\n",
    "    page = bs4.BeautifulSoup(resp.text)\n",
    "    for n in fixed_nightly:\n",
    "        page.html.body.append(n)\n",
    "\n",
    "    return str(page)"
   ]
  },
  {
   "cell_type": "code",
   "execution_count": null,
   "id": "0c0599ab-20de-4b5e-a3cb-faef1acfddae",
   "metadata": {},
   "outputs": [],
   "source": []
  }
 ],
 "metadata": {
  "kernelspec": {
   "display_name": "Python 3 (ipykernel)",
   "language": "python",
   "name": "python3"
  },
  "language_info": {
   "codemirror_mode": {
    "name": "ipython",
    "version": 3
   },
   "file_extension": ".py",
   "mimetype": "text/x-python",
   "name": "python",
   "nbconvert_exporter": "python",
   "pygments_lexer": "ipython3",
   "version": "3.11.0"
  }
 },
 "nbformat": 4,
 "nbformat_minor": 5
}
